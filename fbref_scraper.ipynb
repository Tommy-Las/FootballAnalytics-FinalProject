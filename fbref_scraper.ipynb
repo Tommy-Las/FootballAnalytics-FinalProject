{
 "cells": [
  {
   "cell_type": "markdown",
   "metadata": {},
   "source": [
    "Imports"
   ]
  },
  {
   "cell_type": "code",
   "execution_count": 1,
   "metadata": {},
   "outputs": [],
   "source": [
    "import pandas as pd\n",
    "import requests\n",
    "from io import StringIO\n",
    "\n",
    "pd.set_option('display.max_columns', None)"
   ]
  },
  {
   "cell_type": "markdown",
   "metadata": {},
   "source": [
    "Names of columns for later renaming "
   ]
  },
  {
   "cell_type": "code",
   "execution_count": 2,
   "metadata": {},
   "outputs": [],
   "source": [
    "\n",
    "standard_new_names = {\"MP\": \"Matches Played\", \"PrgC\": \"Progressive Carries\", \"PrgP\": \"Progressive Passes\", \"PrgR\":\"Progressive Passes Received\",\n",
    "    \"Gls.1\": \"Gls 90\", \"Ast.1\": \"Ast 90\", \"G+A.1\": \"G+A 90\", \"G-PK.1\": \"G-PK 90\", \"xG.1\": \"xG 90\", \"xAG.1\": \"xAG 90\", \"npxG.1\": \"npxG 90\", \"npxG+xAG.1\": \"npxG+xAG 90\"\n",
    "}\n",
    "passing_new_names = {\n",
    "    'Cmp': 'Total Passes Completed',\n",
    "       'Att': 'Total Passes Attempted', 'Cmp%':'Total Passes Success %', 'TotDist': 'Total Passing Distance', 'PrgDist': 'Progressive Passing Distance', 'Cmp.1': 'Short Passes Completed',\n",
    "       'Att.1': 'Short Passes Attenpted', 'Cmp%.1': 'Short Passes Success %',\n",
    "       'Cmp.2': 'Medium Passes Completed', 'Att.2': 'Medium Passes Attempted', 'Cmp%.2': 'Medium Passes Success %', 'Cmp.3': 'Long Passes Completed', 'Att.3': 'Long Passes Attempted', 'Cmp%.3': 'Long Passes Success %',\n",
    "       'KP': 'Key Passes', '1/3': 'Passes into Final Third', 'PPA': 'Passes into Penalty Area', 'CrsPA': 'Crosses into Penalty Area', 'PrgP': \"Progressive Passes\"\n",
    "}\n",
    "passtypes_new_names = {\n",
    "    'Att': 'Total Passes Attempted',\n",
    "       'Live': 'Live-ball Passes', 'Dead': 'Dead-ball Passes', 'FK': 'Free Kicks Passes', 'TB': 'Through Balls', 'Sw': 'Switches', 'Crs':'Crosses', 'TI': 'Throw Ins', 'CK': 'Corner Kicks', \n",
    "       'In': 'Corner Kicks Inward', 'Out': 'Corner Kick Outward', 'Str': 'Corner Kick Straight',\n",
    "       'Cmp': 'Passes Completed', 'Off': 'Passes Offside', 'Blocks': 'Passes Blocked by Opponent'\n",
    "}\n",
    "defending_new_names = {\n",
    "    'Tkl': 'Tackles',\n",
    "       'TklW': 'Tackles Won', 'Def 3rd': 'Tackles Def 3rd', 'Mid 3rd': 'Tackles Mid 3rd', 'Att 3rd':'Tackles Att 3rd', 'Tkl.1': 'Dribblers Tackled', 'Att': 'Dribbles Challenged', 'Tkl%': '% Dribblers Tackled',\n",
    "       'Lost': 'Challenges Lost', 'Blocks':'Total Blocks','Sh': 'Shots Blocked', 'Pass':'Passes Blocked', 'Int':'Interceptions', 'Tkl+Int':'Tackles+Interceptions', 'Clr':'Clearances', 'Err':'Defensive Errors'\n",
    "}\n",
    "\n",
    "shooting_new_names = {\n",
    "    \"Sh\": \"Shots\",\n",
    "    \"SoT\": \"Shots on Target\",\n",
    "    \"SoT%\": \"Shots on Target %\",\n",
    "    \"Sh/90\": \"Shots 90\",\n",
    "    \"SoT/90\": \"Shots on Target 90\",\n",
    "    \"G/Sh\": \"Goals / Shots\",\n",
    "    \"G/SoT\": \"Goals / Shots on Target\",\n",
    "    \"Dist\": \"Avg Shot Distance\",\n",
    "    \"FK\": \"Shots from Free Kicks\"}\n",
    "\n",
    "possesion_new_names = {\n",
    "    \"Def Pen\": \"Touches Def Pen\",\n",
    "    \"Def 3rd\": \"Touches Def 3rd\",\n",
    "    \"Mid 3rd\": \"Touches Mid 3rd\",\n",
    "    \"Att 3rd\": \"Touches Att 3rd\",\n",
    "    \"Att Pen\": \"Touches Att Pen\",\n",
    "    \"Live\": \"Touches Live Ball\",\n",
    "    \"Att\": \"Take Ons Attempted\",\n",
    "    \"Succ\": \"Take Ons Succesful\",\n",
    "    \"Succ%\": \"Take Ons Succesful %\",\n",
    "    \"Tkld\": \"Tackles during Take Ons\",\n",
    "    \"Tkld%\": \"Tackles during Take Ons %\",\n",
    "    \"TotDist\": \"Carries Total Distance\",\n",
    "    \"PrgDist\": \"Progressive Carrying Distance\",\n",
    "    \"PrgC\": \"Progressive Carries\",\n",
    "    \"1/3\": \"Carries into Final Third\",\n",
    "    \"CPA\": \"Carries into Penalty Area\",\n",
    "    \"Mis\": \"Miscontrols\",\n",
    "    \"Dis\": \"Dispossessed\",\n",
    "    \"Rec\": \"Passes Received\",\n",
    "    \"PrgR\": \"Progressive Passes Received\"\n",
    "    }\n",
    "\n",
    "misc_new_names = {\n",
    "    \"Fls\": \"Fouls Commited\",\n",
    "    \"Fld\": \"Fouls Drawn\",\n",
    "    \"Off\": \"Offsides\",\n",
    "    \"Crs\": \"Crosses\",\n",
    "    \"Int\": \"Interceptions\",\n",
    "    \"TklW\": \"Tackles Won\",\n",
    "    \"PKwon\": \"Penalty Kicks Won\",\n",
    "    \"PKcon\": \"Penalty Kicks Conceded\",\n",
    "    \"OG\": \"Own Goals\",\n",
    "    \"Recov\": \"Recoveries\",\n",
    "    \"Won\": \"Aerial Duels Won\",\n",
    "    \"Lost\": \"Aerial Duels Lost\",\n",
    "    \"Won%\": \"Aerial Duels Won %\"\n",
    "}"
   ]
  },
  {
   "cell_type": "markdown",
   "metadata": {},
   "source": [
    "Function to scrape url and return the dataframe"
   ]
  },
  {
   "cell_type": "code",
   "execution_count": 3,
   "metadata": {},
   "outputs": [],
   "source": [
    "def players_table_scraper(url):\n",
    "    \"\"\"Given a FBref URL, scrape the data and return a pandas dataframe \n",
    "\n",
    "    Args:\n",
    "        url (string): URL of the FBref website we want to scrape\n",
    "\n",
    "    Returns:\n",
    "        pd.DataFrame: Dataframe of the data scraped\n",
    "    \"\"\"\n",
    "    # Get the HTML using a GET Request, we replace the <-- and --> to read the 3rd table (players), the one we need \n",
    "    response = StringIO(requests.get(url).text.replace('<!--', '').replace('-->', ''))\n",
    "    \n",
    "    # Using pandas, retrieve the tables and select the players table at index 2\n",
    "    stats = pd.read_html(response, header=1)[2]\n",
    "    \n",
    "    return stats"
   ]
  },
  {
   "cell_type": "markdown",
   "metadata": {},
   "source": [
    "Function to rename column names"
   ]
  },
  {
   "cell_type": "code",
   "execution_count": 4,
   "metadata": {},
   "outputs": [],
   "source": [
    "def column_rename(data, new_names):\n",
    "    \"\"\"rename columns from given dataset using a dictionary with the column names and its new names\n",
    "\n",
    "    Args:\n",
    "        data (pd.DataFrame): DataFrame that its columns are being renamed\n",
    "        new_names (dict): dictionary where the keys are the current columns of the dataframe, and the values are the new names\n",
    "    \"\"\"\n",
    "    \n",
    "    data.rename(new_names, inplace = True, axis=1)"
   ]
  },
  {
   "cell_type": "markdown",
   "metadata": {},
   "source": [
    "Get data from four different pages"
   ]
  },
  {
   "cell_type": "code",
   "execution_count": 5,
   "metadata": {},
   "outputs": [],
   "source": [
    "standard = players_table_scraper('https://fbref.com/en/comps/22/2023/stats/2023-Major-League-Soccer-Stats')\n",
    "passing = players_table_scraper('https://fbref.com/en/comps/22/2023/passing/2023-Major-League-Soccer-Stats')\n",
    "passtypes = players_table_scraper('https://fbref.com/en/comps/22/2023/passing_types/2023-Major-League-Soccer-Stats')\n",
    "defending = players_table_scraper('https://fbref.com/en/comps/22/2023/defense/2023-Major-League-Soccer-Stats')\n",
    "shooting  = players_table_scraper('https://fbref.com/en/comps/22/2023/shooting/2023-Major-League-Soccer-Stats')\n",
    "possesion = players_table_scraper('https://fbref.com/en/comps/22/2023/possession/2023-Major-League-Soccer-Stats')\n",
    "misc = players_table_scraper('https://fbref.com/en/comps/22/2023/misc/2023-Major-League-Soccer-Stats')\n",
    "#goal_shot_creation = players_table_scraper(\"https://fbref.com/en/comps/22/2023/gca/2023-Major-League-Soccer-Stats\")"
   ]
  },
  {
   "cell_type": "markdown",
   "metadata": {},
   "source": [
    "Column renaming"
   ]
  },
  {
   "cell_type": "code",
   "execution_count": 6,
   "metadata": {},
   "outputs": [],
   "source": [
    "column_rename(standard, standard_new_names)\n",
    "column_rename(passing, passing_new_names)\n",
    "column_rename(passtypes, passtypes_new_names)\n",
    "column_rename(defending, defending_new_names)\n",
    "column_rename(shooting, shooting_new_names)\n",
    "column_rename(possesion, possesion_new_names)\n",
    "column_rename(misc, misc_new_names)"
   ]
  },
  {
   "cell_type": "markdown",
   "metadata": {},
   "source": [
    "We want to join dataframes, we concatenate excluding the duplicate columns"
   ]
  },
  {
   "cell_type": "code",
   "execution_count": 7,
   "metadata": {},
   "outputs": [],
   "source": [
    "all_data = pd.concat([standard, passing[passing.columns.difference(standard.columns)]], axis=1)\n",
    "all_data = pd.concat([all_data, passtypes[passtypes.columns.difference(all_data.columns)]], axis=1)\n",
    "all_data = pd.concat([all_data, defending[defending.columns.difference(all_data.columns)]], axis=1)\n",
    "all_data = pd.concat([all_data, shooting[shooting.columns.difference(all_data.columns)]], axis=1)\n",
    "all_data = pd.concat([all_data, possesion[possesion.columns.difference(all_data.columns)]], axis=1)\n",
    "all_data = pd.concat([all_data, misc[misc.columns.difference(all_data.columns)]], axis=1) "
   ]
  },
  {
   "cell_type": "code",
   "execution_count": 8,
   "metadata": {},
   "outputs": [
    {
     "name": "stdout",
     "output_type": "stream",
     "text": [
      "<class 'pandas.core.frame.DataFrame'>\n",
      "RangeIndex: 889 entries, 0 to 888\n",
      "Columns: 130 entries, Rk to Recoveries\n",
      "dtypes: object(130)\n",
      "memory usage: 903.0+ KB\n"
     ]
    }
   ],
   "source": [
    "all_data.info()"
   ]
  },
  {
   "cell_type": "markdown",
   "metadata": {},
   "source": [
    "Data preprocessing"
   ]
  },
  {
   "cell_type": "code",
   "execution_count": 9,
   "metadata": {},
   "outputs": [],
   "source": [
    "# Delete rows with NaN\n",
    "all_data = all_data.dropna(thresh=all_data.shape[1] - 5)\n",
    "\n",
    "# Drop headers that are stored as rows\n",
    "all_data = all_data[all_data['Rk'] != 'Rk']\n",
    "\n",
    "# Drop unnecesary columns\n",
    "all_data.drop([\"Rk\", \"Matches\"], axis=1, inplace=True)\n",
    "\n",
    "# Reset indexes\n",
    "all_data.reset_index(drop=True, inplace=True)"
   ]
  },
  {
   "cell_type": "code",
   "execution_count": 10,
   "metadata": {},
   "outputs": [],
   "source": [
    "all_data.to_csv(\"MLS_2023_Players.csv\", sep=',', encoding='UTF-8')"
   ]
  }
 ],
 "metadata": {
  "kernelspec": {
   "display_name": ".venv",
   "language": "python",
   "name": "python3"
  },
  "language_info": {
   "codemirror_mode": {
    "name": "ipython",
    "version": 3
   },
   "file_extension": ".py",
   "mimetype": "text/x-python",
   "name": "python",
   "nbconvert_exporter": "python",
   "pygments_lexer": "ipython3",
   "version": "3.12.2"
  }
 },
 "nbformat": 4,
 "nbformat_minor": 2
}
